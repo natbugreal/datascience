{
  "cells": [
    {
      "cell_type": "markdown",
      "metadata": {
        "id": "view-in-github",
        "colab_type": "text"
      },
      "source": [
        "<a href=\"https://colab.research.google.com/github/natbugreal/datascience/blob/main/Copy_of_Unit7ExercisesSF.ipynb\" target=\"_parent\"><img src=\"https://colab.research.google.com/assets/colab-badge.svg\" alt=\"Open In Colab\"/></a>"
      ]
    },
    {
      "cell_type": "markdown",
      "metadata": {
        "id": "nVWnEQSH4us3"
      },
      "source": [
        "# Fitting Curves: Concepts\n",
        "\n",
        "What you'll do:\n",
        "\n",
        "- Answer questions about what a GP is, and its relationship to GLMs and splines.\n",
        "- Practice applying one of: polynomial modeling, b splines, or GPs\n",
        "- You'll get a chance to read about and try to comprehend a more standard implementation of a GP.\n",
        "\n",
        "Have fun!"
      ]
    },
    {
      "cell_type": "markdown",
      "metadata": {
        "id": "dvOGkgka7zwk"
      },
      "source": [
        "**Task1**:\n",
        "\n",
        "Why would you ever want to include a polynomial element in a model you built? What's the benefit of using polynomials to model?"
      ]
    },
    {
      "cell_type": "markdown",
      "source": [
        "generally speaking, like many things in life, we like to opt for the sipmle and effective outlet -- this is also true in datascience! BUT...It is beneficial to use polynomial models because they typically work well when the data is like more complex or exhibits are more complex relationship (like when they have more than one fluctuation rather than just being a straightfoward linear connection.) But when using these its important to be cognizant of the potential overfitting that is common."
      ],
      "metadata": {
        "id": "IC1drhn1ZoIE"
      }
    },
    {
      "cell_type": "markdown",
      "metadata": {
        "id": "yoz8Bb-HQaqB"
      },
      "source": [
        "**Task2**:\n",
        "\n",
        "Why would you ever NOT want to include a polynomial element in a model you built?"
      ]
    },
    {
      "cell_type": "markdown",
      "source": [
        "Polynomial elements work better when they have alot of realtionships to deal with - this means that you should probably stay away from them if youre working with a simple dataset, this can also be said about linear datasets. STAY AWAY!"
      ],
      "metadata": {
        "id": "IAWpTiMoa48-"
      }
    },
    {
      "cell_type": "markdown",
      "metadata": {
        "id": "MaLdFTKNatZs"
      },
      "source": [
        "**Task3**:\n",
        "\n",
        "What's the point of using b splines?"
      ]
    },
    {
      "cell_type": "markdown",
      "source": [
        "Using b splines allows us to have the best of the Polynomials with less of the tedious effects (like the overfitting) these can also be used when dealing with more relationships and bigger datasets."
      ],
      "metadata": {
        "id": "mL7JV4lBbjwW"
      }
    },
    {
      "cell_type": "markdown",
      "metadata": {
        "id": "M51jgnvxeg1o"
      },
      "source": [
        "**Task4**:\n",
        "\n",
        "Describe what a Gaussian Process is, in your own words. *Don't worry about being correct, just try to explain it to yourself*. I will not grade this question for accuracy."
      ]
    },
    {
      "cell_type": "markdown",
      "source": [
        "I THINK a Gaussian Process is like a way to model uncertain functions by treating them like an uncertain collection of smooth curves, where each curve has some randomness but is shaped by patterns of relatedness.\n",
        "like kind of like gestalt psychology where things are percieved as a whole instead of the bits and pieces that they are actually displaying"
      ],
      "metadata": {
        "id": "jWCblqGBcRkC"
      }
    },
    {
      "cell_type": "markdown",
      "source": [
        "**Task5**:\n",
        "\n",
        "Refit a model to the howell data, using one of the following: polynomial model, b splines, or GPs.\n",
        "Plot the posterior predictive check on a scatter plot\n",
        "\n",
        "You only need to use one . Remember, the simpler the model is, the better (usually).\n",
        "\n",
        "Hint: If you use a polynomial or bspline, try a disdributional model\n"
      ],
      "metadata": {
        "id": "94o5En1fQVja"
      }
    },
    {
      "cell_type": "code",
      "source": [
        "import numpy as np\n",
        "import pandas as pd\n",
        "import arviz as az\n",
        "import pymc as pm\n",
        "import matplotlib.pyplot as plt\n"
      ],
      "metadata": {
        "id": "55rk0FrBdKbH"
      },
      "execution_count": 3,
      "outputs": []
    },
    {
      "cell_type": "code",
      "source": [
        "!pip install git+https://github.com/pydata/xarray.git\n",
        "import xarray as xr\n",
        "!pip install bambi\n",
        "import bambi as bmb"
      ],
      "metadata": {
        "colab": {
          "base_uri": "https://localhost:8080/"
        },
        "collapsed": true,
        "id": "1prx1lXYdQZY",
        "outputId": "c3f1e221-fe12-4ea7-d16a-d68663334783"
      },
      "execution_count": 1,
      "outputs": [
        {
          "output_type": "stream",
          "name": "stdout",
          "text": [
            "Collecting git+https://github.com/pydata/xarray.git\n",
            "  Cloning https://github.com/pydata/xarray.git to /tmp/pip-req-build-91ij5x3z\n",
            "  Running command git clone --filter=blob:none --quiet https://github.com/pydata/xarray.git /tmp/pip-req-build-91ij5x3z\n",
            "  Resolved https://github.com/pydata/xarray.git to commit 0caf09628011f9790d6e8df62fe92c485c7382ae\n",
            "  Installing build dependencies ... \u001b[?25l\u001b[?25hdone\n",
            "  Getting requirements to build wheel ... \u001b[?25l\u001b[?25hdone\n",
            "  Preparing metadata (pyproject.toml) ... \u001b[?25l\u001b[?25hdone\n",
            "Requirement already satisfied: numpy>=1.24 in /usr/local/lib/python3.11/dist-packages (from xarray==2025.1.3.dev17+g0caf0962) (1.26.4)\n",
            "Requirement already satisfied: packaging>=23.2 in /usr/local/lib/python3.11/dist-packages (from xarray==2025.1.3.dev17+g0caf0962) (24.2)\n",
            "Requirement already satisfied: pandas>=2.1 in /usr/local/lib/python3.11/dist-packages (from xarray==2025.1.3.dev17+g0caf0962) (2.2.2)\n",
            "Requirement already satisfied: python-dateutil>=2.8.2 in /usr/local/lib/python3.11/dist-packages (from pandas>=2.1->xarray==2025.1.3.dev17+g0caf0962) (2.8.2)\n",
            "Requirement already satisfied: pytz>=2020.1 in /usr/local/lib/python3.11/dist-packages (from pandas>=2.1->xarray==2025.1.3.dev17+g0caf0962) (2025.1)\n",
            "Requirement already satisfied: tzdata>=2022.7 in /usr/local/lib/python3.11/dist-packages (from pandas>=2.1->xarray==2025.1.3.dev17+g0caf0962) (2025.1)\n",
            "Requirement already satisfied: six>=1.5 in /usr/local/lib/python3.11/dist-packages (from python-dateutil>=2.8.2->pandas>=2.1->xarray==2025.1.3.dev17+g0caf0962) (1.17.0)\n",
            "Building wheels for collected packages: xarray\n",
            "  Building wheel for xarray (pyproject.toml) ... \u001b[?25l\u001b[?25hdone\n",
            "  Created wheel for xarray: filename=xarray-2025.1.3.dev17+g0caf0962-py3-none-any.whl size=1260150 sha256=88d1ae13f2cbb9868645859402fd1882941db4be2da899164127719ad8c47315\n",
            "  Stored in directory: /tmp/pip-ephem-wheel-cache-7d42k127/wheels/15/f9/46/ac58ec95d7761bd0b92f54d99c5d132719866f63745c3702ed\n",
            "Successfully built xarray\n",
            "Installing collected packages: xarray\n",
            "  Attempting uninstall: xarray\n",
            "    Found existing installation: xarray 2025.1.2\n",
            "    Uninstalling xarray-2025.1.2:\n",
            "      Successfully uninstalled xarray-2025.1.2\n",
            "Successfully installed xarray-2025.1.3.dev17+g0caf0962\n",
            "Collecting bambi\n",
            "  Downloading bambi-0.15.0-py3-none-any.whl.metadata (8.8 kB)\n",
            "Requirement already satisfied: arviz>=0.12.0 in /usr/local/lib/python3.11/dist-packages (from bambi) (0.20.0)\n",
            "Collecting formulae>=0.5.3 (from bambi)\n",
            "  Downloading formulae-0.5.4-py3-none-any.whl.metadata (4.5 kB)\n",
            "Requirement already satisfied: graphviz in /usr/local/lib/python3.11/dist-packages (from bambi) (0.20.3)\n",
            "Requirement already satisfied: pandas>=1.0.0 in /usr/local/lib/python3.11/dist-packages (from bambi) (2.2.2)\n",
            "Requirement already satisfied: pymc>=5.18.0 in /usr/local/lib/python3.11/dist-packages (from bambi) (5.20.1)\n",
            "Requirement already satisfied: setuptools>=60.0.0 in /usr/local/lib/python3.11/dist-packages (from arviz>=0.12.0->bambi) (75.1.0)\n",
            "Requirement already satisfied: matplotlib>=3.5 in /usr/local/lib/python3.11/dist-packages (from arviz>=0.12.0->bambi) (3.10.0)\n",
            "Requirement already satisfied: numpy>=1.23.0 in /usr/local/lib/python3.11/dist-packages (from arviz>=0.12.0->bambi) (1.26.4)\n",
            "Requirement already satisfied: scipy>=1.9.0 in /usr/local/lib/python3.11/dist-packages (from arviz>=0.12.0->bambi) (1.13.1)\n",
            "Requirement already satisfied: packaging in /usr/local/lib/python3.11/dist-packages (from arviz>=0.12.0->bambi) (24.2)\n",
            "Requirement already satisfied: xarray>=2022.6.0 in /usr/local/lib/python3.11/dist-packages (from arviz>=0.12.0->bambi) (2025.1.3.dev17+g0caf0962)\n",
            "Requirement already satisfied: h5netcdf>=1.0.2 in /usr/local/lib/python3.11/dist-packages (from arviz>=0.12.0->bambi) (1.5.0)\n",
            "Requirement already satisfied: typing-extensions>=4.1.0 in /usr/local/lib/python3.11/dist-packages (from arviz>=0.12.0->bambi) (4.12.2)\n",
            "Requirement already satisfied: xarray-einstats>=0.3 in /usr/local/lib/python3.11/dist-packages (from arviz>=0.12.0->bambi) (0.8.0)\n",
            "Requirement already satisfied: python-dateutil>=2.8.2 in /usr/local/lib/python3.11/dist-packages (from pandas>=1.0.0->bambi) (2.8.2)\n",
            "Requirement already satisfied: pytz>=2020.1 in /usr/local/lib/python3.11/dist-packages (from pandas>=1.0.0->bambi) (2025.1)\n",
            "Requirement already satisfied: tzdata>=2022.7 in /usr/local/lib/python3.11/dist-packages (from pandas>=1.0.0->bambi) (2025.1)\n",
            "Requirement already satisfied: cachetools>=4.2.1 in /usr/local/lib/python3.11/dist-packages (from pymc>=5.18.0->bambi) (5.5.1)\n",
            "Requirement already satisfied: cloudpickle in /usr/local/lib/python3.11/dist-packages (from pymc>=5.18.0->bambi) (3.1.1)\n",
            "Requirement already satisfied: pytensor<2.28,>=2.26.1 in /usr/local/lib/python3.11/dist-packages (from pymc>=5.18.0->bambi) (2.27.1)\n",
            "Requirement already satisfied: rich>=13.7.1 in /usr/local/lib/python3.11/dist-packages (from pymc>=5.18.0->bambi) (13.9.4)\n",
            "Requirement already satisfied: threadpoolctl<4.0.0,>=3.1.0 in /usr/local/lib/python3.11/dist-packages (from pymc>=5.18.0->bambi) (3.5.0)\n",
            "Requirement already satisfied: h5py in /usr/local/lib/python3.11/dist-packages (from h5netcdf>=1.0.2->arviz>=0.12.0->bambi) (3.12.1)\n",
            "Requirement already satisfied: contourpy>=1.0.1 in /usr/local/lib/python3.11/dist-packages (from matplotlib>=3.5->arviz>=0.12.0->bambi) (1.3.1)\n",
            "Requirement already satisfied: cycler>=0.10 in /usr/local/lib/python3.11/dist-packages (from matplotlib>=3.5->arviz>=0.12.0->bambi) (0.12.1)\n",
            "Requirement already satisfied: fonttools>=4.22.0 in /usr/local/lib/python3.11/dist-packages (from matplotlib>=3.5->arviz>=0.12.0->bambi) (4.56.0)\n",
            "Requirement already satisfied: kiwisolver>=1.3.1 in /usr/local/lib/python3.11/dist-packages (from matplotlib>=3.5->arviz>=0.12.0->bambi) (1.4.8)\n",
            "Requirement already satisfied: pillow>=8 in /usr/local/lib/python3.11/dist-packages (from matplotlib>=3.5->arviz>=0.12.0->bambi) (11.1.0)\n",
            "Requirement already satisfied: pyparsing>=2.3.1 in /usr/local/lib/python3.11/dist-packages (from matplotlib>=3.5->arviz>=0.12.0->bambi) (3.2.1)\n",
            "Requirement already satisfied: filelock>=3.15 in /usr/local/lib/python3.11/dist-packages (from pytensor<2.28,>=2.26.1->pymc>=5.18.0->bambi) (3.17.0)\n",
            "Requirement already satisfied: etuples in /usr/local/lib/python3.11/dist-packages (from pytensor<2.28,>=2.26.1->pymc>=5.18.0->bambi) (0.3.9)\n",
            "Requirement already satisfied: logical-unification in /usr/local/lib/python3.11/dist-packages (from pytensor<2.28,>=2.26.1->pymc>=5.18.0->bambi) (0.4.6)\n",
            "Requirement already satisfied: miniKanren in /usr/local/lib/python3.11/dist-packages (from pytensor<2.28,>=2.26.1->pymc>=5.18.0->bambi) (1.0.3)\n",
            "Requirement already satisfied: cons in /usr/local/lib/python3.11/dist-packages (from pytensor<2.28,>=2.26.1->pymc>=5.18.0->bambi) (0.4.6)\n",
            "Requirement already satisfied: six>=1.5 in /usr/local/lib/python3.11/dist-packages (from python-dateutil>=2.8.2->pandas>=1.0.0->bambi) (1.17.0)\n",
            "Requirement already satisfied: markdown-it-py>=2.2.0 in /usr/local/lib/python3.11/dist-packages (from rich>=13.7.1->pymc>=5.18.0->bambi) (3.0.0)\n",
            "Requirement already satisfied: pygments<3.0.0,>=2.13.0 in /usr/local/lib/python3.11/dist-packages (from rich>=13.7.1->pymc>=5.18.0->bambi) (2.18.0)\n",
            "Requirement already satisfied: mdurl~=0.1 in /usr/local/lib/python3.11/dist-packages (from markdown-it-py>=2.2.0->rich>=13.7.1->pymc>=5.18.0->bambi) (0.1.2)\n",
            "Requirement already satisfied: toolz in /usr/local/lib/python3.11/dist-packages (from logical-unification->pytensor<2.28,>=2.26.1->pymc>=5.18.0->bambi) (0.12.1)\n",
            "Requirement already satisfied: multipledispatch in /usr/local/lib/python3.11/dist-packages (from logical-unification->pytensor<2.28,>=2.26.1->pymc>=5.18.0->bambi) (1.0.0)\n",
            "Downloading bambi-0.15.0-py3-none-any.whl (109 kB)\n",
            "\u001b[2K   \u001b[90m━━━━━━━━━━━━━━━━━━━━━━━━━━━━━━━━━━━━━━━━\u001b[0m \u001b[32m109.2/109.2 kB\u001b[0m \u001b[31m3.5 MB/s\u001b[0m eta \u001b[36m0:00:00\u001b[0m\n",
            "\u001b[?25hDownloading formulae-0.5.4-py3-none-any.whl (53 kB)\n",
            "\u001b[2K   \u001b[90m━━━━━━━━━━━━━━━━━━━━━━━━━━━━━━━━━━━━━━━━\u001b[0m \u001b[32m53.7/53.7 kB\u001b[0m \u001b[31m4.2 MB/s\u001b[0m eta \u001b[36m0:00:00\u001b[0m\n",
            "\u001b[?25hInstalling collected packages: formulae, bambi\n",
            "Successfully installed bambi-0.15.0 formulae-0.5.4\n"
          ]
        }
      ]
    },
    {
      "cell_type": "code",
      "source": [
        "howell = pd.read_csv('https://raw.githubusercontent.com/thedarredondo/data-science-fundamentals/main/Data/howell.csv')\n",
        "\n",
        "num_knots = 6\n",
        "knots = np.linspace(howell.height.min(), howell.height.max(), num_knots+2)[1:-1]\n",
        "\n",
        "#distributional model\n",
        "formula_howell = bmb.Formula(\n",
        "    \"weight ~ bs(height, degree=3, knots=knots)\",\n",
        "    \"sigma ~ height\"\n",
        ")\n",
        "\n",
        "model_spline = bmb.Model(formula_howell, howell, family=\"gaussian\")\n",
        "idata_spline = model_spline.fit()\n",
        "\n",
        "bmb.interpret.plot_predictions(model_spline, idata_spline, \"height\", pps= True)\n",
        "plt.plot(howell.height, howell.weight, \"C2.\", zorder=-3)"
      ],
      "metadata": {
        "colab": {
          "base_uri": "https://localhost:8080/",
          "height": 596,
          "referenced_widgets": [
            "12602eac24254a95b439e994380bf31d",
            "70419e4c59a341febb687b6d8cd58532"
          ]
        },
        "id": "3Wd8AyMddUMX",
        "outputId": "49b1b0fc-366d-4a2c-f09d-a756b7e23e99"
      },
      "execution_count": 4,
      "outputs": [
        {
          "output_type": "display_data",
          "data": {
            "text/plain": [
              "Output()"
            ],
            "application/vnd.jupyter.widget-view+json": {
              "version_major": 2,
              "version_minor": 0,
              "model_id": "12602eac24254a95b439e994380bf31d"
            }
          },
          "metadata": {}
        },
        {
          "output_type": "display_data",
          "data": {
            "text/plain": [],
            "text/html": [
              "<pre style=\"white-space:pre;overflow-x:auto;line-height:normal;font-family:Menlo,'DejaVu Sans Mono',consolas,'Courier New',monospace\"></pre>\n"
            ]
          },
          "metadata": {}
        },
        {
          "output_type": "stream",
          "name": "stderr",
          "text": [
            "/usr/local/lib/python3.11/dist-packages/arviz/rcparams.py:368: FutureWarning: stats.hdi_prob is deprecated since 0.18.0, use stats.ci_prob instead\n",
            "  warnings.warn(\n"
          ]
        },
        {
          "output_type": "execute_result",
          "data": {
            "text/plain": [
              "[<matplotlib.lines.Line2D at 0x7936a0645710>]"
            ]
          },
          "metadata": {},
          "execution_count": 4
        },
        {
          "output_type": "display_data",
          "data": {
            "text/plain": [
              "<Figure size 640x480 with 1 Axes>"
            ],
            "image/png": "[encoded data removed]"
          },
          "metadata": {}
        }
      ]
    },
    {
      "cell_type": "markdown",
      "source": [
        "**Task6**:\n",
        "\n",
        "Read the article on the pymc website about GP implementation on the Mauna Loa CO$_{2}$ data combined with CO$_{2}$ ice core data from the south pole.\n",
        "[Link here.](https://www.pymc.io/projects/examples/en/latest/gaussian_processes/GP-MaunaLoa2.html)\n",
        "\n",
        "Write down one thing you learned about GPs from reading the article.\n",
        "\n",
        "Note: You probably won't understand anything in this article. The main point of this task is to hammer home that good GP implementations are extremely technical."
      ],
      "metadata": {
        "id": "oYy-Gpzbpm8A"
      }
    },
    {
      "cell_type": "markdown",
      "source": [
        "One thing I learned about Gaussian Processes (GPs) from the article is that they can be used to model and account for both errors in the measurements (like uncertainty in the CO2 levels) and errors in the timing of those measurements (like uncertainty in the exact date when the ice core data was collected), which is critical when dealing with noisy or imprecise data like this.\n",
        "\n",
        "Wait i originally read the task wrong and just did something i learned which i kind of hilarious because like duh nat it has to be datascience related but im just gonna leave it in so my hard work doesnt go to nothing:  One thing I learned from the article is that ice core data, like CO2 measurements, is less accurate than direct atmospheric measurements when theyre compared to those from Mauna Loa, due to the gradual process of CO2 diffusion in ice and the averaging effect of air bubbles trapped in the ice over several years. This makes the ice core data less precise in reflecting the exact CO2 levels at any given moment."
      ],
      "metadata": {
        "id": "9mjIlkNedzRr"
      }
    },
    {
      "cell_type": "markdown",
      "source": [
        "**Task7**:\n",
        "\n",
        "Describe your favorite graph from the article in the previous task. Explain why its your favorite."
      ],
      "metadata": {
        "id": "T4dngCCrrO_q"
      }
    },
    {
      "cell_type": "markdown",
      "source": [
        "My favorite graph is the one that like shows the posterior predictions of CO2 levels over time, which has a shaded area that has a clear representaton the uncertainty of the predictions. This graph is my favorite because it visually demonstrates how a Gaussian Process can capture the underlying trend of CO2 levels over centuries, while also showing the uncertainty in the predictions. it does a good job at handling uncertainty and make predictions even when the data is noisy, like the ice core data."
      ],
      "metadata": {
        "id": "pu0EUnICfpwO"
      }
    }
  ],
  "metadata": {
    "colab": {
      "provenance": [],
      "include_colab_link": true
    },
    "kernelspec": {
      "display_name": "Python 3",
      "name": "python3"
    },
    "language_info": {
      "name": "python"
    },
    "widgets": {
      "application/vnd.jupyter.widget-state+json": {
        "12602eac24254a95b439e994380bf31d": {
          "model_module": "@jupyter-widgets/output",
          "model_name": "OutputModel",
          "model_module_version": "1.0.0",
          "state": {
            "_dom_classes": [],
            "_model_module": "@jupyter-widgets/output",
            "_model_module_version": "1.0.0",
            "_model_name": "OutputModel",
            "_view_count": null,
            "_view_module": "@jupyter-widgets/output",
            "_view_module_version": "1.0.0",
            "_view_name": "OutputView",
            "layout": "IPY_MODEL_70419e4c59a341febb687b6d8cd58532",
            "msg_id": "",
            "outputs": [
              {
                "output_type": "display_data",
                "data": {
                  "text/plain": "                                                                                                                   \n \u001b[1m \u001b[0m\u001b[1mProgress                 \u001b[0m\u001b[1m \u001b[0m \u001b[1m \u001b[0m\u001b[1mDraws\u001b[0m\u001b[1m \u001b[0m \u001b[1m \u001b[0m\u001b[1mDivergences\u001b[0m\u001b[1m \u001b[0m \u001b[1m \u001b[0m\u001b[1mStep size\u001b[0m\u001b[1m \u001b[0m \u001b[1m \u001b[0m\u001b[1mGrad evals\u001b[0m\u001b[1m \u001b[0m \u001b[1m \u001b[0m\u001b[1mSampling Speed\u001b[0m\u001b[1m \u001b[0m \u001b[1m \u001b[0m\u001b[1mElapsed\u001b[0m\u001b[1m \u001b[0m \u001b[1m \u001b[0m\u001b[1mRemaining\u001b[0m\u001b[1m \u001b[0m \n ───────────────────────────────────────────────────────────────────────────────────────────────────────────────── \n  \u001b[38;2;31;119;180m━━━━━━━━━━━━━━━━━━━━━━━━━\u001b[0m   2000    0             0.22        15           176.94 draws/s   0:00:11   0:00:00    \n  \u001b[38;2;31;119;180m━━━━━━━━━━━━━━━━━━━━━━━━━\u001b[0m   2000    0             0.20        15           78.90 draws/s    0:00:25   0:00:00    \n                                                                                                                   \n",
                  "text/html": "<pre style=\"white-space:pre;overflow-x:auto;line-height:normal;font-family:Menlo,'DejaVu Sans Mono',consolas,'Courier New',monospace\">                                                                                                                   \n <span style=\"font-weight: bold\"> Progress                  </span> <span style=\"font-weight: bold\"> Draws </span> <span style=\"font-weight: bold\"> Divergences </span> <span style=\"font-weight: bold\"> Step size </span> <span style=\"font-weight: bold\"> Grad evals </span> <span style=\"font-weight: bold\"> Sampling Speed </span> <span style=\"font-weight: bold\"> Elapsed </span> <span style=\"font-weight: bold\"> Remaining </span> \n ───────────────────────────────────────────────────────────────────────────────────────────────────────────────── \n  <span style=\"color: #1f77b4; text-decoration-color: #1f77b4\">━━━━━━━━━━━━━━━━━━━━━━━━━</span>   2000    0             0.22        15           176.94 draws/s   0:00:11   0:00:00    \n  <span style=\"color: #1f77b4; text-decoration-color: #1f77b4\">━━━━━━━━━━━━━━━━━━━━━━━━━</span>   2000    0             0.20        15           78.90 draws/s    0:00:25   0:00:00    \n                                                                                                                   \n</pre>\n"
                },
                "metadata": {}
              }
            ]
          }
        },
        "70419e4c59a341febb687b6d8cd58532": {
          "model_module": "@jupyter-widgets/base",
          "model_name": "LayoutModel",
          "model_module_version": "1.2.0",
          "state": {
            "_model_module": "@jupyter-widgets/base",
            "_model_module_version": "1.2.0",
            "_model_name": "LayoutModel",
            "_view_count": null,
            "_view_module": "@jupyter-widgets/base",
            "_view_module_version": "1.2.0",
            "_view_name": "LayoutView",
            "align_content": null,
            "align_items": null,
            "align_self": null,
            "border": null,
            "bottom": null,
            "display": null,
            "flex": null,
            "flex_flow": null,
            "grid_area": null,
            "grid_auto_columns": null,
            "grid_auto_flow": null,
            "grid_auto_rows": null,
            "grid_column": null,
            "grid_gap": null,
            "grid_row": null,
            "grid_template_areas": null,
            "grid_template_columns": null,
            "grid_template_rows": null,
            "height": null,
            "justify_content": null,
            "justify_items": null,
            "left": null,
            "margin": null,
            "max_height": null,
            "max_width": null,
            "min_height": null,
            "min_width": null,
            "object_fit": null,
            "object_position": null,
            "order": null,
            "overflow": null,
            "overflow_x": null,
            "overflow_y": null,
            "padding": null,
            "right": null,
            "top": null,
            "visibility": null,
            "width": null
          }
        }
      }
    }
  },
  "nbformat": 4,
  "nbformat_minor": 0
}